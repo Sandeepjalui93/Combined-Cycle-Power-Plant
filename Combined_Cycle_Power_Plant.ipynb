{
  "nbformat": 4,
  "nbformat_minor": 0,
  "metadata": {
    "colab": {
      "name": "Combined_Cycle_Power_Plant.ipynb",
      "provenance": []
    },
    "kernelspec": {
      "name": "python3",
      "display_name": "Python 3"
    }
  },
  "cells": [
    {
      "cell_type": "code",
      "metadata": {
        "id": "FIiS9r1-Jx22",
        "colab_type": "code",
        "colab": {}
      },
      "source": [
        "import numpy as np\n",
        "import pandas as pd\n",
        "import tensorflow as tf"
      ],
      "execution_count": 35,
      "outputs": []
    },
    {
      "cell_type": "code",
      "metadata": {
        "id": "529h9uRwKco7",
        "colab_type": "code",
        "colab": {
          "base_uri": "https://localhost:8080/",
          "height": 35
        },
        "outputId": "5dd796d4-35f2-4358-f9d8-b80723f26e58"
      },
      "source": [
        "tf.__version__"
      ],
      "execution_count": 36,
      "outputs": [
        {
          "output_type": "execute_result",
          "data": {
            "application/vnd.google.colaboratory.intrinsic": {
              "type": "string"
            },
            "text/plain": [
              "'2.2.0'"
            ]
          },
          "metadata": {
            "tags": []
          },
          "execution_count": 36
        }
      ]
    },
    {
      "cell_type": "code",
      "metadata": {
        "id": "8NJ94qgVKm-X",
        "colab_type": "code",
        "colab": {}
      },
      "source": [
        "from google.colab import drive"
      ],
      "execution_count": 37,
      "outputs": []
    },
    {
      "cell_type": "code",
      "metadata": {
        "id": "_0YtBhW-LYZW",
        "colab_type": "code",
        "colab": {
          "base_uri": "https://localhost:8080/",
          "height": 34
        },
        "outputId": "54a798b3-905a-49c6-af7d-1e3723ff3f55"
      },
      "source": [
        "drive.mount('/content/drive')"
      ],
      "execution_count": 38,
      "outputs": [
        {
          "output_type": "stream",
          "text": [
            "Drive already mounted at /content/drive; to attempt to forcibly remount, call drive.mount(\"/content/drive\", force_remount=True).\n"
          ],
          "name": "stdout"
        }
      ]
    },
    {
      "cell_type": "code",
      "metadata": {
        "id": "yfYCGREmMEpD",
        "colab_type": "code",
        "colab": {}
      },
      "source": [
        "dataset = pd.read_excel('/content/drive/My Drive/ANN_Regression/Folds5x2_pp.xlsx')"
      ],
      "execution_count": 39,
      "outputs": []
    },
    {
      "cell_type": "code",
      "metadata": {
        "id": "jXTIaooeMiUx",
        "colab_type": "code",
        "colab": {
          "base_uri": "https://localhost:8080/",
          "height": 34
        },
        "outputId": "adb42ddf-3439-4138-b950-2bba83417041"
      },
      "source": [
        "dataset.shape"
      ],
      "execution_count": 40,
      "outputs": [
        {
          "output_type": "execute_result",
          "data": {
            "text/plain": [
              "(9568, 5)"
            ]
          },
          "metadata": {
            "tags": []
          },
          "execution_count": 40
        }
      ]
    },
    {
      "cell_type": "code",
      "metadata": {
        "id": "-DZ5vlcrMnqq",
        "colab_type": "code",
        "colab": {
          "base_uri": "https://localhost:8080/",
          "height": 359
        },
        "outputId": "2cbbe466-ade1-4209-d45e-8f88107756e9"
      },
      "source": [
        "dataset.head(10)"
      ],
      "execution_count": 41,
      "outputs": [
        {
          "output_type": "execute_result",
          "data": {
            "text/html": [
              "<div>\n",
              "<style scoped>\n",
              "    .dataframe tbody tr th:only-of-type {\n",
              "        vertical-align: middle;\n",
              "    }\n",
              "\n",
              "    .dataframe tbody tr th {\n",
              "        vertical-align: top;\n",
              "    }\n",
              "\n",
              "    .dataframe thead th {\n",
              "        text-align: right;\n",
              "    }\n",
              "</style>\n",
              "<table border=\"1\" class=\"dataframe\">\n",
              "  <thead>\n",
              "    <tr style=\"text-align: right;\">\n",
              "      <th></th>\n",
              "      <th>AT</th>\n",
              "      <th>V</th>\n",
              "      <th>AP</th>\n",
              "      <th>RH</th>\n",
              "      <th>PE</th>\n",
              "    </tr>\n",
              "  </thead>\n",
              "  <tbody>\n",
              "    <tr>\n",
              "      <th>0</th>\n",
              "      <td>14.96</td>\n",
              "      <td>41.76</td>\n",
              "      <td>1024.07</td>\n",
              "      <td>73.17</td>\n",
              "      <td>463.26</td>\n",
              "    </tr>\n",
              "    <tr>\n",
              "      <th>1</th>\n",
              "      <td>25.18</td>\n",
              "      <td>62.96</td>\n",
              "      <td>1020.04</td>\n",
              "      <td>59.08</td>\n",
              "      <td>444.37</td>\n",
              "    </tr>\n",
              "    <tr>\n",
              "      <th>2</th>\n",
              "      <td>5.11</td>\n",
              "      <td>39.40</td>\n",
              "      <td>1012.16</td>\n",
              "      <td>92.14</td>\n",
              "      <td>488.56</td>\n",
              "    </tr>\n",
              "    <tr>\n",
              "      <th>3</th>\n",
              "      <td>20.86</td>\n",
              "      <td>57.32</td>\n",
              "      <td>1010.24</td>\n",
              "      <td>76.64</td>\n",
              "      <td>446.48</td>\n",
              "    </tr>\n",
              "    <tr>\n",
              "      <th>4</th>\n",
              "      <td>10.82</td>\n",
              "      <td>37.50</td>\n",
              "      <td>1009.23</td>\n",
              "      <td>96.62</td>\n",
              "      <td>473.90</td>\n",
              "    </tr>\n",
              "    <tr>\n",
              "      <th>5</th>\n",
              "      <td>26.27</td>\n",
              "      <td>59.44</td>\n",
              "      <td>1012.23</td>\n",
              "      <td>58.77</td>\n",
              "      <td>443.67</td>\n",
              "    </tr>\n",
              "    <tr>\n",
              "      <th>6</th>\n",
              "      <td>15.89</td>\n",
              "      <td>43.96</td>\n",
              "      <td>1014.02</td>\n",
              "      <td>75.24</td>\n",
              "      <td>467.35</td>\n",
              "    </tr>\n",
              "    <tr>\n",
              "      <th>7</th>\n",
              "      <td>9.48</td>\n",
              "      <td>44.71</td>\n",
              "      <td>1019.12</td>\n",
              "      <td>66.43</td>\n",
              "      <td>478.42</td>\n",
              "    </tr>\n",
              "    <tr>\n",
              "      <th>8</th>\n",
              "      <td>14.64</td>\n",
              "      <td>45.00</td>\n",
              "      <td>1021.78</td>\n",
              "      <td>41.25</td>\n",
              "      <td>475.98</td>\n",
              "    </tr>\n",
              "    <tr>\n",
              "      <th>9</th>\n",
              "      <td>11.74</td>\n",
              "      <td>43.56</td>\n",
              "      <td>1015.14</td>\n",
              "      <td>70.72</td>\n",
              "      <td>477.50</td>\n",
              "    </tr>\n",
              "  </tbody>\n",
              "</table>\n",
              "</div>"
            ],
            "text/plain": [
              "      AT      V       AP     RH      PE\n",
              "0  14.96  41.76  1024.07  73.17  463.26\n",
              "1  25.18  62.96  1020.04  59.08  444.37\n",
              "2   5.11  39.40  1012.16  92.14  488.56\n",
              "3  20.86  57.32  1010.24  76.64  446.48\n",
              "4  10.82  37.50  1009.23  96.62  473.90\n",
              "5  26.27  59.44  1012.23  58.77  443.67\n",
              "6  15.89  43.96  1014.02  75.24  467.35\n",
              "7   9.48  44.71  1019.12  66.43  478.42\n",
              "8  14.64  45.00  1021.78  41.25  475.98\n",
              "9  11.74  43.56  1015.14  70.72  477.50"
            ]
          },
          "metadata": {
            "tags": []
          },
          "execution_count": 41
        }
      ]
    },
    {
      "cell_type": "code",
      "metadata": {
        "id": "Z66JNKJFMug8",
        "colab_type": "code",
        "colab": {}
      },
      "source": [
        "X = dataset.iloc[:, :-1].values\n",
        "Y = dataset.iloc[:, -1].values"
      ],
      "execution_count": 42,
      "outputs": []
    },
    {
      "cell_type": "code",
      "metadata": {
        "id": "2wqZaOIsNJFY",
        "colab_type": "code",
        "colab": {
          "base_uri": "https://localhost:8080/",
          "height": 170
        },
        "outputId": "7b560f0e-e6b5-432c-c756-70885e936a1b"
      },
      "source": [
        "print(X), print(Y)"
      ],
      "execution_count": 43,
      "outputs": [
        {
          "output_type": "stream",
          "text": [
            "[[  14.96   41.76 1024.07   73.17]\n",
            " [  25.18   62.96 1020.04   59.08]\n",
            " [   5.11   39.4  1012.16   92.14]\n",
            " ...\n",
            " [  31.32   74.33 1012.92   36.48]\n",
            " [  24.48   69.45 1013.86   62.39]\n",
            " [  21.6    62.52 1017.23   67.87]]\n",
            "[463.26 444.37 488.56 ... 429.57 435.74 453.28]\n"
          ],
          "name": "stdout"
        },
        {
          "output_type": "execute_result",
          "data": {
            "text/plain": [
              "(None, None)"
            ]
          },
          "metadata": {
            "tags": []
          },
          "execution_count": 43
        }
      ]
    },
    {
      "cell_type": "code",
      "metadata": {
        "id": "iC9ikQ9tPLJG",
        "colab_type": "code",
        "colab": {}
      },
      "source": [
        "from sklearn.model_selection import train_test_split\n",
        "X_train, X_test, Y_train, Y_test = train_test_split (X, Y, test_size = 0.2, random_state = 0)"
      ],
      "execution_count": 44,
      "outputs": []
    },
    {
      "cell_type": "code",
      "metadata": {
        "id": "j0IuAwIwPqXD",
        "colab_type": "code",
        "colab": {}
      },
      "source": [
        "ann = tf.keras.models.Sequential()"
      ],
      "execution_count": 45,
      "outputs": []
    },
    {
      "cell_type": "code",
      "metadata": {
        "id": "ZngUj7emRbn3",
        "colab_type": "code",
        "colab": {}
      },
      "source": [
        "ann.add(tf.keras.layers.Dense(units = 6, activation = 'relu'))"
      ],
      "execution_count": 46,
      "outputs": []
    },
    {
      "cell_type": "code",
      "metadata": {
        "id": "ZIM2uq5YSjsg",
        "colab_type": "code",
        "colab": {}
      },
      "source": [
        "ann.add(tf.keras.layers.Dense(units = 6, activation = 'relu'))"
      ],
      "execution_count": 47,
      "outputs": []
    },
    {
      "cell_type": "code",
      "metadata": {
        "id": "92nxCGc2S8eZ",
        "colab_type": "code",
        "colab": {}
      },
      "source": [
        "ann.add(tf.keras.layers.Dense(units = 1))"
      ],
      "execution_count": 48,
      "outputs": []
    },
    {
      "cell_type": "code",
      "metadata": {
        "id": "SeSvTr5hTcUp",
        "colab_type": "code",
        "colab": {}
      },
      "source": [
        "ann.compile(optimizer = 'adam', loss = 'mean_squared_error')"
      ],
      "execution_count": 49,
      "outputs": []
    },
    {
      "cell_type": "code",
      "metadata": {
        "id": "A0TILfmkUpME",
        "colab_type": "code",
        "colab": {
          "base_uri": "https://localhost:8080/",
          "height": 1000
        },
        "outputId": "affc3e3e-0a53-4211-8511-b64d89790ca0"
      },
      "source": [
        "ann.fit(X_train, Y_train, batch_size = 32, epochs = 100)"
      ],
      "execution_count": 50,
      "outputs": [
        {
          "output_type": "stream",
          "text": [
            "Epoch 1/100\n",
            "240/240 [==============================] - 0s 1ms/step - loss: 114944.5234\n",
            "Epoch 2/100\n",
            "240/240 [==============================] - 0s 1ms/step - loss: 654.8953\n",
            "Epoch 3/100\n",
            "240/240 [==============================] - 0s 1ms/step - loss: 595.4974\n",
            "Epoch 4/100\n",
            "240/240 [==============================] - 0s 1ms/step - loss: 571.3771\n",
            "Epoch 5/100\n",
            "240/240 [==============================] - 0s 1ms/step - loss: 543.8945\n",
            "Epoch 6/100\n",
            "240/240 [==============================] - 0s 1ms/step - loss: 512.9078\n",
            "Epoch 7/100\n",
            "240/240 [==============================] - 0s 1ms/step - loss: 479.5665\n",
            "Epoch 8/100\n",
            "240/240 [==============================] - 0s 1ms/step - loss: 443.5088\n",
            "Epoch 9/100\n",
            "240/240 [==============================] - 0s 1ms/step - loss: 407.2652\n",
            "Epoch 10/100\n",
            "240/240 [==============================] - 0s 1ms/step - loss: 368.7604\n",
            "Epoch 11/100\n",
            "240/240 [==============================] - 0s 1ms/step - loss: 331.9995\n",
            "Epoch 12/100\n",
            "240/240 [==============================] - 0s 1ms/step - loss: 294.2934\n",
            "Epoch 13/100\n",
            "240/240 [==============================] - 0s 1ms/step - loss: 258.0651\n",
            "Epoch 14/100\n",
            "240/240 [==============================] - 0s 1ms/step - loss: 223.2192\n",
            "Epoch 15/100\n",
            "240/240 [==============================] - 0s 1ms/step - loss: 191.4093\n",
            "Epoch 16/100\n",
            "240/240 [==============================] - 0s 1ms/step - loss: 161.1497\n",
            "Epoch 17/100\n",
            "240/240 [==============================] - 0s 1ms/step - loss: 134.0756\n",
            "Epoch 18/100\n",
            "240/240 [==============================] - 0s 1ms/step - loss: 110.6612\n",
            "Epoch 19/100\n",
            "240/240 [==============================] - 0s 1ms/step - loss: 91.0555\n",
            "Epoch 20/100\n",
            "240/240 [==============================] - 0s 1ms/step - loss: 74.8681\n",
            "Epoch 21/100\n",
            "240/240 [==============================] - 0s 1ms/step - loss: 62.2787\n",
            "Epoch 22/100\n",
            "240/240 [==============================] - 0s 1ms/step - loss: 53.1253\n",
            "Epoch 23/100\n",
            "240/240 [==============================] - 0s 1ms/step - loss: 46.5870\n",
            "Epoch 24/100\n",
            "240/240 [==============================] - 0s 1ms/step - loss: 42.3256\n",
            "Epoch 25/100\n",
            "240/240 [==============================] - 0s 1ms/step - loss: 39.3974\n",
            "Epoch 26/100\n",
            "240/240 [==============================] - 0s 1ms/step - loss: 37.9995\n",
            "Epoch 27/100\n",
            "240/240 [==============================] - 0s 1ms/step - loss: 36.9858\n",
            "Epoch 28/100\n",
            "240/240 [==============================] - 0s 1ms/step - loss: 36.1805\n",
            "Epoch 29/100\n",
            "240/240 [==============================] - 0s 1ms/step - loss: 35.2344\n",
            "Epoch 30/100\n",
            "240/240 [==============================] - 0s 1ms/step - loss: 34.6749\n",
            "Epoch 31/100\n",
            "240/240 [==============================] - 0s 1ms/step - loss: 34.1413\n",
            "Epoch 32/100\n",
            "240/240 [==============================] - 0s 1ms/step - loss: 33.9373\n",
            "Epoch 33/100\n",
            "240/240 [==============================] - 0s 1ms/step - loss: 33.3265\n",
            "Epoch 34/100\n",
            "240/240 [==============================] - 0s 1ms/step - loss: 32.9462\n",
            "Epoch 35/100\n",
            "240/240 [==============================] - 0s 1ms/step - loss: 32.3643\n",
            "Epoch 36/100\n",
            "240/240 [==============================] - 0s 1ms/step - loss: 31.7070\n",
            "Epoch 37/100\n",
            "240/240 [==============================] - 0s 1ms/step - loss: 31.2060\n",
            "Epoch 38/100\n",
            "240/240 [==============================] - 0s 1ms/step - loss: 30.6850\n",
            "Epoch 39/100\n",
            "240/240 [==============================] - 0s 1ms/step - loss: 29.9999\n",
            "Epoch 40/100\n",
            "240/240 [==============================] - 0s 1ms/step - loss: 30.9382\n",
            "Epoch 41/100\n",
            "240/240 [==============================] - 0s 1ms/step - loss: 29.8296\n",
            "Epoch 42/100\n",
            "240/240 [==============================] - 0s 1ms/step - loss: 29.1179\n",
            "Epoch 43/100\n",
            "240/240 [==============================] - 0s 1ms/step - loss: 28.7400\n",
            "Epoch 44/100\n",
            "240/240 [==============================] - 0s 1ms/step - loss: 28.3980\n",
            "Epoch 45/100\n",
            "240/240 [==============================] - 0s 1ms/step - loss: 28.7355\n",
            "Epoch 46/100\n",
            "240/240 [==============================] - 0s 1ms/step - loss: 28.4556\n",
            "Epoch 47/100\n",
            "240/240 [==============================] - 0s 1ms/step - loss: 27.9828\n",
            "Epoch 48/100\n",
            "240/240 [==============================] - 0s 1ms/step - loss: 27.9205\n",
            "Epoch 49/100\n",
            "240/240 [==============================] - 0s 1ms/step - loss: 27.4407\n",
            "Epoch 50/100\n",
            "240/240 [==============================] - 0s 1ms/step - loss: 27.5942\n",
            "Epoch 51/100\n",
            "240/240 [==============================] - 0s 1ms/step - loss: 27.6950\n",
            "Epoch 52/100\n",
            "240/240 [==============================] - 0s 1ms/step - loss: 27.3712\n",
            "Epoch 53/100\n",
            "240/240 [==============================] - 0s 1ms/step - loss: 27.6707\n",
            "Epoch 54/100\n",
            "240/240 [==============================] - 0s 1ms/step - loss: 28.3254\n",
            "Epoch 55/100\n",
            "240/240 [==============================] - 0s 1ms/step - loss: 27.7362\n",
            "Epoch 56/100\n",
            "240/240 [==============================] - 0s 1ms/step - loss: 26.8651\n",
            "Epoch 57/100\n",
            "240/240 [==============================] - 0s 1ms/step - loss: 27.9219\n",
            "Epoch 58/100\n",
            "240/240 [==============================] - 0s 1ms/step - loss: 27.1761\n",
            "Epoch 59/100\n",
            "240/240 [==============================] - 0s 1ms/step - loss: 27.9468\n",
            "Epoch 60/100\n",
            "240/240 [==============================] - 0s 1ms/step - loss: 26.7219\n",
            "Epoch 61/100\n",
            "240/240 [==============================] - 0s 1ms/step - loss: 27.1012\n",
            "Epoch 62/100\n",
            "240/240 [==============================] - 0s 1ms/step - loss: 28.1820\n",
            "Epoch 63/100\n",
            "240/240 [==============================] - 0s 1ms/step - loss: 27.1638\n",
            "Epoch 64/100\n",
            "240/240 [==============================] - 0s 1ms/step - loss: 26.9777\n",
            "Epoch 65/100\n",
            "240/240 [==============================] - 0s 1ms/step - loss: 27.4111\n",
            "Epoch 66/100\n",
            "240/240 [==============================] - 0s 1ms/step - loss: 27.2802\n",
            "Epoch 67/100\n",
            "240/240 [==============================] - 0s 1ms/step - loss: 27.5278\n",
            "Epoch 68/100\n",
            "240/240 [==============================] - 0s 1ms/step - loss: 26.5321\n",
            "Epoch 69/100\n",
            "240/240 [==============================] - 0s 1ms/step - loss: 27.4422\n",
            "Epoch 70/100\n",
            "240/240 [==============================] - 0s 1ms/step - loss: 27.5343\n",
            "Epoch 71/100\n",
            "240/240 [==============================] - 0s 1ms/step - loss: 27.3312\n",
            "Epoch 72/100\n",
            "240/240 [==============================] - 0s 1ms/step - loss: 27.1044\n",
            "Epoch 73/100\n",
            "240/240 [==============================] - 0s 1ms/step - loss: 27.3198\n",
            "Epoch 74/100\n",
            "240/240 [==============================] - 0s 1ms/step - loss: 27.0536\n",
            "Epoch 75/100\n",
            "240/240 [==============================] - 0s 1ms/step - loss: 27.4288\n",
            "Epoch 76/100\n",
            "240/240 [==============================] - 0s 1ms/step - loss: 26.9721\n",
            "Epoch 77/100\n",
            "240/240 [==============================] - 0s 1ms/step - loss: 26.7327\n",
            "Epoch 78/100\n",
            "240/240 [==============================] - 0s 1ms/step - loss: 26.9963\n",
            "Epoch 79/100\n",
            "240/240 [==============================] - 0s 1ms/step - loss: 27.4002\n",
            "Epoch 80/100\n",
            "240/240 [==============================] - 0s 1ms/step - loss: 27.1216\n",
            "Epoch 81/100\n",
            "240/240 [==============================] - 0s 1ms/step - loss: 26.5629\n",
            "Epoch 82/100\n",
            "240/240 [==============================] - 0s 1ms/step - loss: 26.9439\n",
            "Epoch 83/100\n",
            "240/240 [==============================] - 0s 1ms/step - loss: 26.9042\n",
            "Epoch 84/100\n",
            "240/240 [==============================] - 0s 1ms/step - loss: 27.5349\n",
            "Epoch 85/100\n",
            "240/240 [==============================] - 0s 1ms/step - loss: 27.2665\n",
            "Epoch 86/100\n",
            "240/240 [==============================] - 0s 1ms/step - loss: 27.2144\n",
            "Epoch 87/100\n",
            "240/240 [==============================] - 0s 1ms/step - loss: 26.8892\n",
            "Epoch 88/100\n",
            "240/240 [==============================] - 0s 1ms/step - loss: 27.0476\n",
            "Epoch 89/100\n",
            "240/240 [==============================] - 0s 1ms/step - loss: 27.3578\n",
            "Epoch 90/100\n",
            "240/240 [==============================] - 0s 1ms/step - loss: 27.8422\n",
            "Epoch 91/100\n",
            "240/240 [==============================] - 0s 1ms/step - loss: 27.4416\n",
            "Epoch 92/100\n",
            "240/240 [==============================] - 0s 1ms/step - loss: 27.3995\n",
            "Epoch 93/100\n",
            "240/240 [==============================] - 0s 1ms/step - loss: 27.0328\n",
            "Epoch 94/100\n",
            "240/240 [==============================] - 0s 1ms/step - loss: 26.8708\n",
            "Epoch 95/100\n",
            "240/240 [==============================] - 0s 1ms/step - loss: 27.6893\n",
            "Epoch 96/100\n",
            "240/240 [==============================] - 0s 1ms/step - loss: 27.2133\n",
            "Epoch 97/100\n",
            "240/240 [==============================] - 0s 1ms/step - loss: 26.9231\n",
            "Epoch 98/100\n",
            "240/240 [==============================] - 0s 1ms/step - loss: 27.0983\n",
            "Epoch 99/100\n",
            "240/240 [==============================] - 0s 1ms/step - loss: 27.3451\n",
            "Epoch 100/100\n",
            "240/240 [==============================] - 0s 1ms/step - loss: 27.1119\n"
          ],
          "name": "stdout"
        },
        {
          "output_type": "execute_result",
          "data": {
            "text/plain": [
              "<tensorflow.python.keras.callbacks.History at 0x7f526e5b14e0>"
            ]
          },
          "metadata": {
            "tags": []
          },
          "execution_count": 50
        }
      ]
    },
    {
      "cell_type": "code",
      "metadata": {
        "id": "Py7IzMahWzKW",
        "colab_type": "code",
        "colab": {}
      },
      "source": [
        "Y_pred = ann.predict(X_test)"
      ],
      "execution_count": 57,
      "outputs": []
    },
    {
      "cell_type": "code",
      "metadata": {
        "id": "NSUCdF8OXPlZ",
        "colab_type": "code",
        "colab": {
          "base_uri": "https://localhost:8080/",
          "height": 136
        },
        "outputId": "d8a4d603-6ade-4108-ce16-22b7db48d13c"
      },
      "source": [
        "np.set_printoptions(precision = 2)\n",
        "print(np.concatenate((Y_pred.reshape(len(Y_pred),1), Y_test.reshape(len(Y_test),1)), 1))"
      ],
      "execution_count": 59,
      "outputs": [
        {
          "output_type": "stream",
          "text": [
            "[[430.04 431.23]\n",
            " [460.82 460.01]\n",
            " [464.24 461.14]\n",
            " ...\n",
            " [471.48 473.26]\n",
            " [438.48 438.  ]\n",
            " [457.55 463.28]]\n"
          ],
          "name": "stdout"
        }
      ]
    }
  ]
}